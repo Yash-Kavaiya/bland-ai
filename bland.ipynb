{
 "cells": [
  {
   "cell_type": "code",
   "execution_count": 1,
   "metadata": {},
   "outputs": [],
   "source": [
    "import requests\n",
    "import json\n",
    "\n",
    "url = 'https://api.bland.ai/v1/calls'\n",
    "authorization = '<key>'  # Replace with your actual authorization token\n",
    "data = {\n",
    "   'phone_number': '+919265745362',\n",
    "   'task': 'A prompt up to 24k characters that instructs your phone agent what to do',\n",
    "   'tools': ['A set of external APIs your phone agent can interact with during calls'],\n",
    "   'transfer_phone_number': '+16667778899',\n",
    "   'voice_id': 123\n",
    "}\n",
    "\n",
    "headers = {\n",
    "   'Content-Type': 'application/json',\n",
    "   'Authorization': authorization\n",
    "}"
   ]
  },
  {
   "cell_type": "code",
   "execution_count": 4,
   "metadata": {},
   "outputs": [],
   "source": [
    "import requests\n",
    "\n",
    "url = \"https://api.bland.ai/v1/calls\"\n",
    "\n",
    "payload = {\n",
    "    \"phone_number\": \"+919265745362\",\n",
    "    \"task\": \"Phone\",\n",
    "    \"model\": \"base\"\n",
    "}\n",
    "headers = {\n",
    "    \"authorization\": \"sk-0iz5q73kse462pwyhdl0txfujpj1pd7haqph6g9stgge0tz7vqs5o87baiu37hpc69\",\n",
    "    \"Content-Type\": \"application/json\"\n",
    "}\n",
    "\n",
    "response = requests.request(\"POST\", url, json=payload, headers=headers)"
   ]
  },
  {
   "cell_type": "code",
   "execution_count": 5,
   "metadata": {},
   "outputs": [
    {
     "data": {
      "text/plain": [
       "<Response [403]>"
      ]
     },
     "execution_count": 5,
     "metadata": {},
     "output_type": "execute_result"
    }
   ],
   "source": [
    "response"
   ]
  },
  {
   "cell_type": "code",
   "execution_count": null,
   "metadata": {},
   "outputs": [],
   "source": []
  }
 ],
 "metadata": {
  "kernelspec": {
   "display_name": "Python 3",
   "language": "python",
   "name": "python3"
  },
  "language_info": {
   "codemirror_mode": {
    "name": "ipython",
    "version": 3
   },
   "file_extension": ".py",
   "mimetype": "text/x-python",
   "name": "python",
   "nbconvert_exporter": "python",
   "pygments_lexer": "ipython3",
   "version": "3.10.13"
  }
 },
 "nbformat": 4,
 "nbformat_minor": 2
}
